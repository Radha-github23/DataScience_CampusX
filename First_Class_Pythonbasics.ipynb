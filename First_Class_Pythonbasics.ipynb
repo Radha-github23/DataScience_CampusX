{
  "nbformat": 4,
  "nbformat_minor": 0,
  "metadata": {
    "colab": {
      "provenance": [],
      "authorship_tag": "ABX9TyNMGnsG3JA6sgMRDVUs1u3M",
      "include_colab_link": true
    },
    "kernelspec": {
      "name": "python3",
      "display_name": "Python 3"
    },
    "language_info": {
      "name": "python"
    }
  },
  "cells": [
    {
      "cell_type": "markdown",
      "metadata": {
        "id": "view-in-github",
        "colab_type": "text"
      },
      "source": [
        "<a href=\"https://colab.research.google.com/github/Radha-github23/DataScience_CampusX/blob/main/First_Class_Pythonbasics.ipynb\" target=\"_parent\"><img src=\"https://colab.research.google.com/assets/colab-badge.svg\" alt=\"Open In Colab\"/></a>"
      ]
    },
    {
      "cell_type": "markdown",
      "source": [
        "1.Python OutPut"
      ],
      "metadata": {
        "id": "3ZWxPsTV3AIs"
      }
    },
    {
      "cell_type": "code",
      "execution_count": null,
      "metadata": {
        "colab": {
          "base_uri": "https://localhost:8080/"
        },
        "id": "y48W6tY82okd",
        "outputId": "a9eae7ff-0d00-492c-b948-8a671f9e8757"
      },
      "outputs": [
        {
          "output_type": "stream",
          "name": "stdout",
          "text": [
            "hello screen\n"
          ]
        }
      ],
      "source": [
        "#python is a case sensitive language\n",
        "print(\"hello screen\")"
      ]
    },
    {
      "cell_type": "code",
      "source": [
        "print('Salman Khan')"
      ],
      "metadata": {
        "colab": {
          "base_uri": "https://localhost:8080/"
        },
        "id": "6zzk_Us1Nrnk",
        "outputId": "8ef2428f-cd9f-4bb4-fd2e-36e4b2748470"
      },
      "execution_count": null,
      "outputs": [
        {
          "output_type": "stream",
          "name": "stdout",
          "text": [
            "Salman Khan\n"
          ]
        }
      ]
    },
    {
      "cell_type": "code",
      "source": [
        "print(\"hello\",5,7.8, sep=\" \",end=\"-\")"
      ],
      "metadata": {
        "colab": {
          "base_uri": "https://localhost:8080/"
        },
        "id": "7EBKoAp-O3zQ",
        "outputId": "f819b471-8233-4a4c-b91a-8a8575aa699c"
      },
      "execution_count": null,
      "outputs": [
        {
          "output_type": "stream",
          "name": "stdout",
          "text": [
            "hello 5 7.8-"
          ]
        }
      ]
    },
    {
      "cell_type": "code",
      "source": [
        "#the default value of end is \\n ie new line"
      ],
      "metadata": {
        "id": "oJsPIBS7O4Bn"
      },
      "execution_count": null,
      "outputs": []
    },
    {
      "cell_type": "markdown",
      "source": [
        "2.Data Types"
      ],
      "metadata": {
        "id": "jb7KRAvw3MXD"
      }
    },
    {
      "cell_type": "code",
      "source": [
        "#integer\n",
        "print(8)"
      ],
      "metadata": {
        "id": "DxxyqssC3RNA",
        "colab": {
          "base_uri": "https://localhost:8080/"
        },
        "outputId": "cf5ca285-7d81-46f4-a4c7-b01274d3e191"
      },
      "execution_count": null,
      "outputs": [
        {
          "output_type": "stream",
          "name": "stdout",
          "text": [
            "8\n"
          ]
        }
      ]
    },
    {
      "cell_type": "code",
      "source": [
        "#decimal/fload\n",
        "print(8.66)"
      ],
      "metadata": {
        "colab": {
          "base_uri": "https://localhost:8080/"
        },
        "id": "noK0Jt-um7Nr",
        "outputId": "379f6ebe-30c1-4b9f-a00c-b0ca0d3b7f1e"
      },
      "execution_count": null,
      "outputs": [
        {
          "output_type": "stream",
          "name": "stdout",
          "text": [
            "8.66\n"
          ]
        }
      ]
    },
    {
      "cell_type": "code",
      "source": [
        "#boolean\n",
        "print(True)\n",
        "print(False)"
      ],
      "metadata": {
        "colab": {
          "base_uri": "https://localhost:8080/"
        },
        "id": "Og2hsn3km7aY",
        "outputId": "fa4524c3-2d78-48a2-bdd3-f0e2efeb04f7"
      },
      "execution_count": null,
      "outputs": [
        {
          "output_type": "stream",
          "name": "stdout",
          "text": [
            "True\n",
            "False\n"
          ]
        }
      ]
    },
    {
      "cell_type": "code",
      "source": [
        "#Text/String\n",
        "print('Hello')"
      ],
      "metadata": {
        "colab": {
          "base_uri": "https://localhost:8080/"
        },
        "id": "N0XcUHJBm7m5",
        "outputId": "574acd11-4ef6-477b-b9a3-8cd9263729da"
      },
      "execution_count": null,
      "outputs": [
        {
          "output_type": "stream",
          "name": "stdout",
          "text": [
            "Hello\n"
          ]
        }
      ]
    },
    {
      "cell_type": "code",
      "source": [
        "#complex\n",
        "print(5+6j)"
      ],
      "metadata": {
        "colab": {
          "base_uri": "https://localhost:8080/"
        },
        "id": "2d-YaOlHm7x3",
        "outputId": "09b4da71-1eec-40b5-865a-ca2de111d84f"
      },
      "execution_count": null,
      "outputs": [
        {
          "output_type": "stream",
          "name": "stdout",
          "text": [
            "(5+6j)\n"
          ]
        }
      ]
    },
    {
      "cell_type": "code",
      "source": [
        "#List\n",
        "print([1,2,3,4])"
      ],
      "metadata": {
        "colab": {
          "base_uri": "https://localhost:8080/"
        },
        "id": "JpHPadNyngbR",
        "outputId": "4e2e1c33-7a7f-43fc-ee72-2617dc4cac20"
      },
      "execution_count": null,
      "outputs": [
        {
          "output_type": "stream",
          "name": "stdout",
          "text": [
            "[1, 2, 3, 4]\n"
          ]
        }
      ]
    },
    {
      "cell_type": "code",
      "source": [
        "#Tuple\n",
        "print((1,2,3))"
      ],
      "metadata": {
        "colab": {
          "base_uri": "https://localhost:8080/"
        },
        "id": "EgvkcWfzngn7",
        "outputId": "e4bdcbf7-831c-41fd-96e6-75d8af233864"
      },
      "execution_count": null,
      "outputs": [
        {
          "output_type": "stream",
          "name": "stdout",
          "text": [
            "(1, 2, 3)\n"
          ]
        }
      ]
    },
    {
      "cell_type": "code",
      "source": [
        "#Sets\n",
        "print({1,2,3,4})"
      ],
      "metadata": {
        "colab": {
          "base_uri": "https://localhost:8080/"
        },
        "id": "fNGXVorongvS",
        "outputId": "787d0711-bb99-42ae-94b2-4f62390ffdef"
      },
      "execution_count": null,
      "outputs": [
        {
          "output_type": "stream",
          "name": "stdout",
          "text": [
            "{1, 2, 3, 4}\n"
          ]
        }
      ]
    },
    {
      "cell_type": "code",
      "source": [
        "#Dictionary\n",
        "print({1:'h',2:'y'})"
      ],
      "metadata": {
        "colab": {
          "base_uri": "https://localhost:8080/"
        },
        "id": "idPs6eg2ngys",
        "outputId": "3dc83db4-c9d7-40fb-9715-350bf65d941a"
      },
      "execution_count": null,
      "outputs": [
        {
          "output_type": "stream",
          "name": "stdout",
          "text": [
            "{1: 'h', 2: 'y'}\n"
          ]
        }
      ]
    },
    {
      "cell_type": "code",
      "source": [
        "#type functiom is used to detect data type of the data"
      ],
      "metadata": {
        "id": "DEPeLavsPHLu"
      },
      "execution_count": null,
      "outputs": []
    },
    {
      "cell_type": "markdown",
      "source": [
        "3.Variables - are basically a container where we store any information(they are container for future use)"
      ],
      "metadata": {
        "id": "EjuHGzyJ3SWc"
      }
    },
    {
      "cell_type": "code",
      "source": [
        "name = 'nilam'\n",
        "print(name)\n",
        "\n",
        "a=5\n",
        "b=7\n",
        "\n",
        "print(a+b)"
      ],
      "metadata": {
        "id": "tFztI_X33UqG"
      },
      "execution_count": null,
      "outputs": []
    },
    {
      "cell_type": "code",
      "source": [
        "#dynamic typing not need to tell the data type of the variable at the time of creation of variable eg-python\n",
        "a=6\n",
        "\n",
        "#static typing - c,java,cpp\n",
        "#int a=8\n"
      ],
      "metadata": {
        "id": "LxUbJueFP-Hw"
      },
      "execution_count": null,
      "outputs": []
    },
    {
      "cell_type": "code",
      "source": [
        "#Dynamic Biniding\n",
        "a=8\n",
        "print(a)\n",
        "a='nilam'\n",
        "print(a) #variable doesnt have fix data type it can hold any data type which is called dynamic binding\n",
        "\n",
        "\n"
      ],
      "metadata": {
        "id": "m5rcRdJpQSei",
        "colab": {
          "base_uri": "https://localhost:8080/"
        },
        "outputId": "12f65678-f778-4da8-d2c0-ac168c150809"
      },
      "execution_count": null,
      "outputs": [
        {
          "output_type": "stream",
          "name": "stdout",
          "text": [
            "8\n",
            "nilam\n"
          ]
        }
      ]
    },
    {
      "cell_type": "code",
      "source": [
        "a=1\n",
        "b=2\n",
        "c=3\n",
        "print(a,b,c)\n",
        "a,b,c=1,2,3\n",
        "print(a,b,c)"
      ],
      "metadata": {
        "colab": {
          "base_uri": "https://localhost:8080/"
        },
        "id": "83Xf00VRRb8Y",
        "outputId": "57b87fe5-1e8a-4fc1-8cce-8407bbd1e727"
      },
      "execution_count": null,
      "outputs": [
        {
          "output_type": "stream",
          "name": "stdout",
          "text": [
            "1 2 3\n",
            "1 2 3\n"
          ]
        }
      ]
    },
    {
      "cell_type": "code",
      "source": [
        "a=b=c=5\n",
        "print(a,b,c)\n"
      ],
      "metadata": {
        "colab": {
          "base_uri": "https://localhost:8080/"
        },
        "id": "M7QBc_7VRnOn",
        "outputId": "a709726d-8034-42c6-f119-723a3ca34d12"
      },
      "execution_count": null,
      "outputs": [
        {
          "output_type": "stream",
          "name": "stdout",
          "text": [
            "5 5 5\n"
          ]
        }
      ]
    },
    {
      "cell_type": "markdown",
      "source": [],
      "metadata": {
        "id": "R6Mx_WzESPVd"
      }
    },
    {
      "cell_type": "markdown",
      "source": [
        "comments"
      ],
      "metadata": {
        "id": "_xjxSf72SPaX"
      }
    },
    {
      "cell_type": "code",
      "source": [
        "a=8\n",
        "b=7\n",
        "print(a+b) #comment are basically a piece of code which is ignored by interpreter\n",
        "\n",
        "#comments are basically use to explain the code written in the programme"
      ],
      "metadata": {
        "id": "hZ9YZbiuSSGZ"
      },
      "execution_count": null,
      "outputs": []
    },
    {
      "cell_type": "markdown",
      "source": [
        "4.Keywords & Identifiers"
      ],
      "metadata": {
        "id": "SPZgKoBRSJBp"
      }
    },
    {
      "cell_type": "code",
      "source": [
        "#keywords - there are certain words which is reversed by the compiler to undersetand by the interpreter in python there are 32 keyword\n",
        "#compilation is simple a process which convert source code to binary language which is done by compiler and interpreter,compler convert high level to low level\n",
        "#identifiers -  as a programmer the name given to the funtion,variable,class in our programme is called identifiers,here we cant start the name with variable name and xcant use keyword as a identifiers ,we can use only _ in special charater .\n",
        "name1='hello'\n",
        "_='hello'\n"
      ],
      "metadata": {
        "id": "CW2jxLhHRszn"
      },
      "execution_count": null,
      "outputs": []
    },
    {
      "cell_type": "markdown",
      "source": [
        "5.User Input"
      ],
      "metadata": {
        "id": "PflHag_XdJeF"
      }
    },
    {
      "cell_type": "code",
      "source": [
        " num=int(input(\"enter a number\"))"
      ],
      "metadata": {
        "colab": {
          "base_uri": "https://localhost:8080/"
        },
        "id": "FAS6pKIodMv8",
        "outputId": "8d44b979-4153-4698-b306-79fed99825e2"
      },
      "execution_count": null,
      "outputs": [
        {
          "name": "stdout",
          "output_type": "stream",
          "text": [
            "enter a number2\n"
          ]
        }
      ]
    },
    {
      "cell_type": "markdown",
      "source": [
        "6.Type Conversion"
      ],
      "metadata": {
        "id": "FMXelSGVkVRu"
      }
    },
    {
      "cell_type": "code",
      "source": [
        "#implicit vs Explicit type converion\n",
        "#implicit type conversion mean that programme convert the type internally\n",
        "print(5+5.6)\n",
        "#Explicit type converion means that where programmer use some built in function to convert the type of the input\n",
        "print(type(5),type(5.6))\n",
        "#python type converion operation doesnt change the old data it create new data\n",
        "#type converion doent create the permanent changes it create the new data\n"
      ],
      "metadata": {
        "colab": {
          "base_uri": "https://localhost:8080/"
        },
        "id": "OcVs3i10kBG9",
        "outputId": "58b1aa05-fd53-411a-a4b2-c612537cbab6"
      },
      "execution_count": null,
      "outputs": [
        {
          "output_type": "stream",
          "name": "stdout",
          "text": [
            "10.6\n",
            "<class 'int'> <class 'float'>\n"
          ]
        }
      ]
    },
    {
      "cell_type": "markdown",
      "source": [
        "7. Literals - the value store inside a variable is known as literals"
      ],
      "metadata": {
        "id": "p2JabvgGkvtm"
      }
    },
    {
      "cell_type": "code",
      "source": [
        "a = 0b1010 #binary literals here b shows the binary representation\n",
        "print(a)\n",
        "b=100 # decimal representation\n",
        "c=0o310 # here o shows the octal representaion\n",
        "d=0x123 # x shows hexadecimal representation\n",
        "\n"
      ],
      "metadata": {
        "colab": {
          "base_uri": "https://localhost:8080/"
        },
        "id": "Da_NWlkPkyVn",
        "outputId": "e2bd741d-e466-4cef-9534-dc114779d66a"
      },
      "execution_count": null,
      "outputs": [
        {
          "output_type": "stream",
          "name": "stdout",
          "text": [
            "10\n"
          ]
        }
      ]
    },
    {
      "cell_type": "code",
      "source": [
        "a=True+4\n",
        "b=False+10\n",
        "\n",
        "print(\"a:\",a)\n",
        "print(\"b:\",b)\n",
        "a=None\n",
        "print(a)"
      ],
      "metadata": {
        "colab": {
          "base_uri": "https://localhost:8080/"
        },
        "id": "tNDZQRbGmqLe",
        "outputId": "b816bbc1-b26b-4e28-f29b-0905df6f4448"
      },
      "execution_count": null,
      "outputs": [
        {
          "output_type": "stream",
          "name": "stdout",
          "text": [
            "a: 5\n",
            "b: 10\n",
            "None\n"
          ]
        }
      ]
    },
    {
      "cell_type": "code",
      "source": [],
      "metadata": {
        "id": "odvJtUyHnpDf"
      },
      "execution_count": null,
      "outputs": []
    }
  ]
}