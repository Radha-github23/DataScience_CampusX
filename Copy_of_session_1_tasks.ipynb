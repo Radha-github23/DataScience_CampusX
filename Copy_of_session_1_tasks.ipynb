{
  "nbformat": 4,
  "nbformat_minor": 0,
  "metadata": {
    "colab": {
      "provenance": []
    },
    "kernelspec": {
      "name": "python3",
      "display_name": "Python 3"
    },
    "language_info": {
      "name": "python"
    }
  },
  "cells": [
    {
      "cell_type": "markdown",
      "source": [
        "# Task : Session 1\n",
        "Solve these questions own your own and try to test yourself what you have learned in the session.\n",
        "\n",
        "Happy Learning!"
      ],
      "metadata": {
        "id": "A05OG15VqOPF"
      }
    },
    {
      "cell_type": "markdown",
      "source": [
        "### Q1 :- Print the given strings as per stated format.\n",
        "\n",
        "**Given strings**:\n",
        "```\n",
        "\"Data\" \"Science\" \"Mentorship\" \"Program\"\n",
        "\"By\" \"CampusX\"\n",
        "```\n",
        "**Output**:\n",
        "```\n",
        "Data-Science-Mentorship-Program-started-By-CampusX\n",
        "```\n",
        "\n",
        "Concept- [Seperator and End]"
      ],
      "metadata": {
        "id": "2doIXf8bqe9_"
      }
    },
    {
      "cell_type": "code",
      "source": [
        "# Write your code here\n",
        "print(\"Data\",\"Science\",\"Mentorship\",\"Program\",\"started\",\"By\",\"CampusX\",sep=\"-\")"
      ],
      "metadata": {
        "id": "-em6d3KErDtp",
        "colab": {
          "base_uri": "https://localhost:8080/"
        },
        "outputId": "3e8e3604-3cc9-4cc4-b5ae-1c6c7c533a03"
      },
      "execution_count": null,
      "outputs": [
        {
          "output_type": "stream",
          "name": "stdout",
          "text": [
            "Data-Science-Mentorship-Program-started-By-CampusX\n"
          ]
        }
      ]
    },
    {
      "cell_type": "markdown",
      "source": [
        "### Q2:- Write a program that will convert celsius value to fahrenheit."
      ],
      "metadata": {
        "id": "1KUpN7ZTrC3_"
      }
    },
    {
      "cell_type": "code",
      "source": [
        "# Write your code here\n",
        "x=int(input(\"enter temp in celsius-\"))\n",
        "fahrenheit=(x*1.8)+32\n",
        "print(fahrenheit)"
      ],
      "metadata": {
        "id": "yxKYhYQiqWfj",
        "colab": {
          "base_uri": "https://localhost:8080/"
        },
        "outputId": "73933cde-1974-4752-8cae-76cef802726a"
      },
      "execution_count": null,
      "outputs": [
        {
          "output_type": "stream",
          "name": "stdout",
          "text": [
            "enter temp in celsius-34\n",
            "93.2\n"
          ]
        }
      ]
    },
    {
      "cell_type": "markdown",
      "source": [
        "### Q3:- Take 2 numbers as input from the user.Write a program to swap the numbers without using any special python syntax."
      ],
      "metadata": {
        "id": "RLrOBBJurLB2"
      }
    },
    {
      "cell_type": "code",
      "source": [
        "# Write your code here\n",
        "input1=int(input(\"enter the first number-\"))\n",
        "input2=int(input(\"enter the second number-\"))\n",
        "input3=input1\n",
        "input1=input2\n",
        "input2=input3\n",
        "print(input1,input2)"
      ],
      "metadata": {
        "id": "yPn7if0TrJ4F",
        "colab": {
          "base_uri": "https://localhost:8080/"
        },
        "outputId": "7b679aec-23c2-4abc-99d3-da957ea00257"
      },
      "execution_count": null,
      "outputs": [
        {
          "output_type": "stream",
          "name": "stdout",
          "text": [
            "enter the first number-4\n",
            "enter the second number-5\n",
            "5 4\n"
          ]
        }
      ]
    },
    {
      "cell_type": "markdown",
      "source": [
        "### Q4:- Write a program to find the euclidean distance between two coordinates.Take both the coordinates from the user as input."
      ],
      "metadata": {
        "id": "waLCP1bjr7ML"
      }
    },
    {
      "cell_type": "code",
      "source": [
        "# Write your code here\n"
      ],
      "metadata": {
        "id": "Pl1Sv-xnrxnH"
      },
      "execution_count": null,
      "outputs": []
    },
    {
      "cell_type": "markdown",
      "source": [
        "### Q5:- Write a program to find the simple interest when the value of principle,rate of interest and time period is provided by the user.\n"
      ],
      "metadata": {
        "id": "VLrhg-FRsHjR"
      }
    },
    {
      "cell_type": "code",
      "source": [
        "# Write your code here\n",
        "principle=int(input(\"enter principle amount-\"))\n",
        "rate_of_interest=int(input(\"enter the rate-\"))\n",
        "timePeriod=int(input(\"enter time period-\"))\n",
        "simple_interest=(principle*rate_of_interest*timePeriod)/100\n",
        "print(\"simple interest is:\",simple_interest)\n",
        "\n"
      ],
      "metadata": {
        "id": "s40DlReZsTmY",
        "colab": {
          "base_uri": "https://localhost:8080/"
        },
        "outputId": "1eb2ac64-523c-4f4d-c401-5ce929bc9383"
      },
      "execution_count": null,
      "outputs": [
        {
          "output_type": "stream",
          "name": "stdout",
          "text": [
            "enter principle amount-4\n",
            "enter the rate-4\n",
            "enter time period-5\n",
            "simple interest is: 0.8\n"
          ]
        }
      ]
    },
    {
      "cell_type": "markdown",
      "source": [
        "5\n",
        "### Q6:- Write a program that will tell the number of dogs and chicken are there when the user will provide the value of total heads and legs.\n",
        "\n",
        "For example:\n",
        "Input:\n",
        "heads -> 4\n",
        "legs -> 12\n",
        "<br>\n",
        "Output:\n",
        "dogs -> 2\n",
        "chicken -> 2\n",
        "\n",
        "\n",
        "\n"
      ],
      "metadata": {
        "id": "LMy0BTUktYKa"
      }
    },
    {
      "cell_type": "code",
      "source": [
        "# Write your code here\n",
        "#take input for head\n",
        "num_head=int(input(\"enter the number of head-\"))\n",
        "# #take input for legs\n",
        "num_legs=int(input(\"enter the number of legs-\"))\n",
        "chicken=0\n",
        "dog=0\n",
        "for dog in range(0,num_head):\n",
        "  if (4*dog+2*(num_head-dog)) == num_legs:\n",
        "    print(\"dog->\",dog)\n",
        "    print(\"chicken->\",num_head-dog)\n",
        "else:\n",
        "    print(\"wrong input\")\n",
        "\n",
        "\n",
        "\n"
      ],
      "metadata": {
        "id": "XSBvJoA4tXaG",
        "colab": {
          "base_uri": "https://localhost:8080/"
        },
        "outputId": "405373fd-0e21-4b0b-f7e3-74a03584dcb8"
      },
      "execution_count": null,
      "outputs": [
        {
          "output_type": "stream",
          "name": "stdout",
          "text": [
            "enter the number of head-4\n",
            "enter the number of legs-12\n",
            "dog-> 2\n",
            "chicken-> 2\n",
            "wrong input\n"
          ]
        }
      ]
    },
    {
      "cell_type": "markdown",
      "source": [
        "### Q7:- Write a program to find the sum of squares of first n natural numbers where n will be provided by the user.12"
      ],
      "metadata": {
        "id": "gJ7C5kZYt4BP"
      }
    },
    {
      "cell_type": "code",
      "source": [
        "# Write your code\n",
        "num_of_term=int(input(\"enter number of term-\"))\n",
        "sum_of_sqr_n=(num_of_term*(num_of_term+1)*(2*num_of_term+1))/6\n",
        "print(sum_of_sqr_n)"
      ],
      "metadata": {
        "id": "_tHsmEHzt2nX",
        "colab": {
          "base_uri": "https://localhost:8080/"
        },
        "outputId": "bc9dff24-ae3c-4085-a5a1-30f9c6726268"
      },
      "execution_count": null,
      "outputs": [
        {
          "output_type": "stream",
          "name": "stdout",
          "text": [
            "enter number of term2\n",
            "5.0\n"
          ]
        }
      ]
    },
    {
      "cell_type": "markdown",
      "source": [
        "### Q8:- Given the first 2 terms of an Arithmetic Series.Find the Nth term of the series. Assume all inputs are provided by the user."
      ],
      "metadata": {
        "id": "FHrMM7g-yG1h"
      }
    },
    {
      "cell_type": "code",
      "source": [
        "# Write your code here\n",
        "first_term=int(input(\"enter the first term-\"))\n",
        "second_term=int(input(\"enter the second term-\"))\n",
        "number_term=int(input(\"enter the number of term-\"))\n",
        "comman_difference = second_term - first_term\n",
        "nth_term = first_term + (number_term - 1)*comman_difference\n",
        "print(\"Nth term is - \",nth_term)"
      ],
      "metadata": {
        "id": "go4_kmZmyVSx",
        "colab": {
          "base_uri": "https://localhost:8080/"
        },
        "outputId": "33bc72e0-35a0-425c-f895-bd3664e08ff7"
      },
      "execution_count": null,
      "outputs": [
        {
          "output_type": "stream",
          "name": "stdout",
          "text": [
            "enter the first term-3\n",
            "enter the second term4\n",
            "enter the number of term-6\n",
            "Nth term is -  8\n"
          ]
        }
      ]
    },
    {
      "cell_type": "markdown",
      "source": [
        "4### Q9:- Given 2 fractions, find the sum of those 2 fractions.Take the numerator and denominator values of the fractions from the user."
      ],
      "metadata": {
        "id": "QgyRX_es1oum"
      }
    },
    {
      "cell_type": "code",
      "source": [
        "# Write your code here\n",
        "nr1 = int(input(\"enter numerator for first fraction \"))\n",
        "nr = int(input(\"enter numerator for second fraction \"))\n",
        "dr1 = int(input(\"enter denominator for first fraction \"))\n",
        "dr = int(input(\"enter denominator for first fraction \"))\n",
        "if dr1!=0 and dr!=0:\n",
        "  sum=(nr1*dr)+(nr*dr1)/dr1*dr\n",
        "  print(sum)"
      ],
      "metadata": {
        "id": "X05xqFS1yW16",
        "colab": {
          "base_uri": "https://localhost:8080/"
        },
        "outputId": "118c8a22-64c9-4e73-adbd-afab37800a90"
      },
      "execution_count": null,
      "outputs": [
        {
          "output_type": "stream",
          "name": "stdout",
          "text": [
            "enter numerator for first fraction4\n",
            "enter numerator for second fraction5\n",
            "enter denominator for first fraction3\n",
            "enter denominator for first fraction2\n",
            "18.0\n"
          ]
        }
      ]
    },
    {
      "cell_type": "markdown",
      "source": [
        "6### Q10:- Given the height, width and breadth of a milk tank, you have to find out how many glasses of milk can be obtained? Assume all the inputs are provided by the user.\n",
        "\n",
        "\n",
        "\n",
        "Input:<br>\n",
        "Dimensions of the milk tank<br>\n",
        "H = 20cm, L = 20cm, B = 20cm\n",
        "<br><br>\n",
        "Dimensions of the glass<br>\n",
        "h = 3cm, r = 1cm"
      ],
      "metadata": {
        "id": "eaql38ln13u7"
      }
    },
    {
      "cell_type": "code",
      "source": [
        "# Write your code here\n",
        "H=int(input(\"enter the height of the tank \"))\n",
        "L=int(input(\"enter the length of the tank \"))\n",
        "B=int(input(\"enter the bridth of the cylinder \"))\n",
        "h=int(input(\"enter the height of the glass \"))\n",
        "r=int(input(\"enter the radius of the glass \"))\n",
        "volume_tank=H*L*B\n",
        "volume_glass=3.14*r*r*h\n",
        "num_glass=volume_tank/volume_glass\n",
        "print(num_glass)"
      ],
      "metadata": {
        "id": "FePZqno74eWv",
        "colab": {
          "base_uri": "https://localhost:8080/"
        },
        "outputId": "133af92c-02aa-4813-ae64-cc3342611347"
      },
      "execution_count": null,
      "outputs": [
        {
          "output_type": "stream",
          "name": "stdout",
          "text": [
            "enter the height of the tank 20\n",
            "enter the length of the tank 20\n",
            "enter the bridth of the cylinder 20\n",
            "enter the height of the glass 3\n",
            "enter the radius of the glass 1\n",
            "849.2569002123142\n"
          ]
        }
      ]
    },
    {
      "cell_type": "code",
      "source": [],
      "metadata": {
        "id": "4KjoY7eMr49Q"
      },
      "execution_count": null,
      "outputs": []
    }
  ]
}