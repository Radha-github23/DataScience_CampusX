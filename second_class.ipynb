{
  "cells": [
    {
      "cell_type": "markdown",
      "metadata": {
        "id": "view-in-github",
        "colab_type": "text"
      },
      "source": [
        "<a href=\"https://colab.research.google.com/github/Radha-github23/DataScience_CampusX/blob/main/second_class.ipynb\" target=\"_parent\"><img src=\"https://colab.research.google.com/assets/colab-badge.svg\" alt=\"Open In Colab\"/></a>"
      ]
    },
    {
      "cell_type": "markdown",
      "metadata": {
        "id": "SXNulgIbWHDb"
      },
      "source": [
        "# Operators In Python\n",
        "\n",
        "\n",
        "    Arithmetic Operator\n",
        "    Relational Operators\n",
        "    Logical Operators\n",
        "    Bitwise operators\n",
        "    Assignment Operators\n",
        "    Membership Operators\n",
        "\n",
        "\n",
        "\n",
        "\n",
        "\n"
      ]
    },
    {
      "cell_type": "code",
      "execution_count": null,
      "metadata": {
        "colab": {
          "base_uri": "https://localhost:8080/"
        },
        "id": "c_UvlYixXkL5",
        "outputId": "2cdbc91e-de3b-4da0-d331-2eb5a2837869"
      },
      "outputs": [
        {
          "name": "stdout",
          "output_type": "stream",
          "text": [
            "11\n",
            "-1\n",
            "0.8333333333333334\n",
            "1\n",
            "1\n",
            "25\n"
          ]
        }
      ],
      "source": [
        "#Arithmetic Operators\n",
        "print(5+6)\n",
        "\n",
        "print(5-6)\n",
        "\n",
        "print(5/6)\n",
        "\n",
        "print(6//5)  #integer devision\n",
        "\n",
        "print(6%5) #gives reminder\n",
        "\n",
        "print(5**2)\n",
        "\n"
      ]
    },
    {
      "cell_type": "code",
      "execution_count": null,
      "metadata": {
        "colab": {
          "base_uri": "https://localhost:8080/"
        },
        "id": "IRvHf8uhYOLe",
        "outputId": "4506eaf7-3306-48dc-84a7-9bab2600b67c"
      },
      "outputs": [
        {
          "name": "stdout",
          "output_type": "stream",
          "text": [
            "True\n",
            "False\n",
            "False\n",
            "False\n",
            "False\n",
            "True\n"
          ]
        }
      ],
      "source": [
        "#relational operators\n",
        "\n",
        "print(6<8)\n",
        "\n",
        "print(4>7)\n",
        "\n",
        "print(5>+7)\n",
        "\n",
        "print(6>=7)\n",
        "\n",
        "print(9<=7)\n",
        "\n",
        "print(8!=9)"
      ]
    },
    {
      "cell_type": "code",
      "execution_count": null,
      "metadata": {
        "colab": {
          "base_uri": "https://localhost:8080/"
        },
        "id": "PlAt7No6ZoJB",
        "outputId": "4ee9ea51-6bd4-4c0a-e389-7936785f9347"
      },
      "outputs": [
        {
          "name": "stdout",
          "output_type": "stream",
          "text": [
            "0\n",
            "1\n",
            "False\n"
          ]
        }
      ],
      "source": [
        "#logical Operators\n",
        "print(1 and 0)\n",
        "\n",
        "print(1 or 0)\n",
        "\n",
        "print(not 1)"
      ]
    },
    {
      "cell_type": "code",
      "execution_count": null,
      "metadata": {
        "colab": {
          "base_uri": "https://localhost:8080/"
        },
        "id": "sNLgxtwQaAMz",
        "outputId": "aab3d568-6c8a-4769-a3d7-015ad1f2dfa1"
      },
      "outputs": [
        {
          "name": "stdout",
          "output_type": "stream",
          "text": [
            "2\n"
          ]
        }
      ],
      "source": [
        "#bitwise operator which works with binary Values\n",
        "\n",
        "#bitwise & operator\n",
        "print(2 & 3)\n",
        "\n",
        "#bitwise or\n",
        "print(2 | 3)\n",
        "\n",
        "#bitwise xor\n",
        "print(2 ^ 3)\n",
        "\n",
        "print(4 >> 2)\n"
      ]
    },
    {
      "cell_type": "code",
      "execution_count": null,
      "metadata": {
        "id": "JkWTgCTKcHaA"
      },
      "outputs": [],
      "source": [
        "#Assignment Operators\n",
        "\n",
        "a=2\n"
      ]
    },
    {
      "cell_type": "code",
      "execution_count": null,
      "metadata": {
        "colab": {
          "base_uri": "https://localhost:8080/"
        },
        "id": "KdMA7Rq5cmEQ",
        "outputId": "fae441aa-45a0-4d28-9438-66c347804412"
      },
      "outputs": [
        {
          "name": "stdout",
          "output_type": "stream",
          "text": [
            "True\n",
            "False\n",
            "False\n"
          ]
        }
      ],
      "source": [
        "#Membership Operator\n",
        "#in/not in\n",
        "print('D' in 'Delhi')\n",
        "\n",
        "print('D'  not in 'Delhi')\n",
        "\n",
        "print(1 in [3,7,8])"
      ]
    },
    {
      "cell_type": "code",
      "execution_count": null,
      "metadata": {
        "colab": {
          "base_uri": "https://localhost:8080/"
        },
        "id": "x9BRsqBMd7TK",
        "outputId": "6f26b5a3-eb82-432b-c664-2551f83b5ebf"
      },
      "outputs": [
        {
          "name": "stdout",
          "output_type": "stream",
          "text": [
            "Enter a 3 digit number545\n",
            "14\n"
          ]
        }
      ],
      "source": [
        "# program to find the sum of a three digit number entered by user\n",
        "num=int(input(\"Enter a 3 digit number\"))\n",
        "\n",
        "#345%10 = 5\n",
        "a=num%10\n",
        "\n",
        "\n",
        "num=num//10\n",
        "b=num%10\n",
        "num=num//10\n",
        "c=num%10\n",
        "print(a+b+c)\n"
      ]
    },
    {
      "cell_type": "markdown",
      "metadata": {
        "id": "fzw9pP7Rknwg"
      },
      "source": [
        "If-else in python"
      ]
    },
    {
      "cell_type": "code",
      "execution_count": null,
      "metadata": {
        "colab": {
          "base_uri": "https://localhost:8080/"
        },
        "id": "pQF5ujJKmnMy",
        "outputId": "84395302-488c-41d6-c4f6-55ce23aa0ece"
      },
      "outputs": [
        {
          "name": "stdout",
          "output_type": "stream",
          "text": [
            "enter your emailertt\n",
            "enter passwordfggggg\n",
            "wrong input\n"
          ]
        }
      ],
      "source": [
        "#login program and indentation\n",
        "#email = th@gmail.com\n",
        "#password = 1234\n",
        "\n",
        "email= input(\"enter your email\")\n",
        "password = input('enter password')\n",
        "\n",
        "if email =='th@gmail.com' and password == \"1234\":\n",
        "  print('welcome')\n",
        "elif email == 'th@gmail.com' and password != '1234':\n",
        "  print('incorrect password')\n",
        "  password = input(\"enter password again\")\n",
        "  if password == '1234':\n",
        "    print(\"welcome finally!\")\n",
        "  else:\n",
        "    print(\"try again\")\n",
        "else:\n",
        "  print('wrong input')"
      ]
    },
    {
      "cell_type": "code",
      "execution_count": null,
      "metadata": {
        "colab": {
          "base_uri": "https://localhost:8080/"
        },
        "id": "rIzSkl5o5o13",
        "outputId": "4033b1c6-03b7-4e3d-b640-882ce45d2610"
      },
      "outputs": [
        {
          "name": "stdout",
          "output_type": "stream",
          "text": [
            "first num3\n",
            "second num6\n",
            "third num7\n",
            "smallest is 3\n"
          ]
        }
      ],
      "source": [
        "#min of 3 number\n",
        "a=int(input('first num'))\n",
        "b=int(input('second num'))\n",
        "c=int(input('third num'))\n",
        "\n",
        "if a<b and a<c:\n",
        "  print('smallest is',a)\n",
        "elif b<c:\n",
        "  print('smallest is', b)\n",
        "else :\n",
        "  print('smallest is', c)"
      ]
    },
    {
      "cell_type": "code",
      "execution_count": null,
      "metadata": {
        "colab": {
          "base_uri": "https://localhost:8080/"
        },
        "id": "j2kChevv67Ww",
        "outputId": "75a7faa1-4c46-4955-f2af-721a9c0910ea"
      },
      "outputs": [
        {
          "name": "stdout",
          "output_type": "stream",
          "text": [
            "fnum4\n",
            "snum6\n",
            "enter the opertot*\n",
            "24\n"
          ]
        }
      ],
      "source": [
        "#menu driven calculator\n",
        "fnum=int(input('fnum'))\n",
        "snum=int(input('snum'))\n",
        "op = input(\"enter the opertot\")\n",
        "\n",
        "if op==\"+\":\n",
        "  print(fnum+snum)\n",
        "elif op==\"-\":\n",
        "  print(fnum-snum)\n",
        "elif op==\"*\":\n",
        "  print(fnum*snum)\n",
        "else:\n",
        "  print(fnum/snum)\n",
        "\n"
      ]
    },
    {
      "cell_type": "markdown",
      "metadata": {
        "id": "rdse7K098wXn"
      },
      "source": [
        "Module In Python - module is basic a python file which is use to code reuseblity\n",
        "\n",
        "\n",
        "*   Math\n",
        "\n",
        "*   Keywords\n",
        "*   random\n",
        "\n",
        "\n",
        "*   datetime\n",
        "\n"
      ]
    },
    {
      "cell_type": "code",
      "execution_count": null,
      "metadata": {
        "colab": {
          "base_uri": "https://localhost:8080/"
        },
        "id": "sse_HqdV80TJ",
        "outputId": "de77f735-b3bd-493c-91a1-36266cf16a91"
      },
      "outputs": [
        {
          "data": {
            "text/plain": [
              "2.8284271247461903"
            ]
          },
          "execution_count": 24,
          "metadata": {},
          "output_type": "execute_result"
        }
      ],
      "source": [
        "#math\n",
        "import math\n",
        "math.factorial(5)\n",
        "math.sqrt(8)\n"
      ]
    },
    {
      "cell_type": "code",
      "execution_count": null,
      "metadata": {
        "colab": {
          "base_uri": "https://localhost:8080/"
        },
        "id": "GgovTrtW9hjn",
        "outputId": "8bb3ab87-cc7f-41a7-fdb7-c281892626e5"
      },
      "outputs": [
        {
          "name": "stdout",
          "output_type": "stream",
          "text": [
            "['False', 'None', 'True', 'and', 'as', 'assert', 'async', 'await', 'break', 'class', 'continue', 'def', 'del', 'elif', 'else', 'except', 'finally', 'for', 'from', 'global', 'if', 'import', 'in', 'is', 'lambda', 'nonlocal', 'not', 'or', 'pass', 'raise', 'return', 'try', 'while', 'with', 'yield']\n"
          ]
        }
      ],
      "source": [
        "#keyword\n",
        "import keyword\n",
        "print(keyword.kwlist)"
      ]
    },
    {
      "cell_type": "code",
      "execution_count": null,
      "metadata": {
        "colab": {
          "base_uri": "https://localhost:8080/"
        },
        "id": "eBzdC_od9o9p",
        "outputId": "124220bb-3b97-471b-f20b-dc20dbda7b95"
      },
      "outputs": [
        {
          "name": "stdout",
          "output_type": "stream",
          "text": [
            "98\n"
          ]
        }
      ],
      "source": [
        "#random ue to generate random number\n",
        "import random\n",
        "print(random.randint(1,100))\n"
      ]
    },
    {
      "cell_type": "code",
      "execution_count": null,
      "metadata": {
        "colab": {
          "base_uri": "https://localhost:8080/"
        },
        "id": "6C0Xw7fG91vl",
        "outputId": "02889d51-2bf6-4b38-fdba-6475b5268888"
      },
      "outputs": [
        {
          "name": "stdout",
          "output_type": "stream",
          "text": [
            "2024-05-04 09:37:30.444260\n"
          ]
        }
      ],
      "source": [
        "#datetime\n",
        "import datetime\n",
        "print(datetime.datetime.now())"
      ]
    },
    {
      "cell_type": "code",
      "execution_count": null,
      "metadata": {
        "colab": {
          "base_uri": "https://localhost:8080/",
          "height": 1000
        },
        "id": "yd5bfO7z-Usj",
        "outputId": "e13300f2-5757-4479-be6f-05b66462cfb3"
      },
      "outputs": [
        {
          "name": "stdout",
          "output_type": "stream",
          "text": [
            "\n",
            "Please wait a moment while I gather a list of all available modules...\n",
            "\n"
          ]
        },
        {
          "name": "stderr",
          "output_type": "stream",
          "text": [
            "/usr/local/lib/python3.10/dist-packages/IPython/kernel/__init__.py:12: ShimWarning: The `IPython.kernel` package has been deprecated since IPython 4.0.You should import from ipykernel or jupyter_client instead.\n",
            "  warn(\"The `IPython.kernel` package has been deprecated since IPython 4.0.\"\n",
            "/usr/local/lib/python3.10/dist-packages/altair/vega/v5/__init__.py:18: AltairDeprecationWarning: The module altair.vega.v5 is deprecated and will be removed in Altair 5.\n",
            "  warnings.warn(\n",
            "/usr/local/lib/python3.10/dist-packages/altair/vegalite/v3/__init__.py:29: AltairDeprecationWarning: The module altair.vegalite.v3 is deprecated and will be removed in Altair 5. Use `import altair as alt` instead of `import altair.vegalite.v3 as alt`.\n",
            "  warnings.warn(\n",
            "/usr/local/lib/python3.10/dist-packages/jupyter_client/ssh/tunnel.py:57: DeprecationWarning:\n",
            "\n",
            "zmq.utils.strtypes is deprecated in pyzmq 23.\n",
            "\n"
          ]
        },
        {
          "name": "stdout",
          "output_type": "stream",
          "text": [
            "Downloading https://dlib.net/files/shape_predictor_68_face_landmarks.dat.bz2 to /root/mlxtend_data/shape_predictor_68_face_landmarks.dat.bz2\n"
          ]
        },
        {
          "name": "stderr",
          "output_type": "stream",
          "text": [
            "/usr/local/lib/python3.10/dist-packages/moviepy/video/fx/painting.py:7: DeprecationWarning:\n",
            "\n",
            "Please use `sobel` from the `scipy.ndimage` namespace, the `scipy.ndimage.filters` namespace is deprecated.\n",
            "\n",
            "/usr/lib/python3.10/pkgutil.py:92: UserWarning:\n",
            "\n",
            "The DICOM readers are highly experimental, unstable, and only work for Siemens time-series at the moment\n",
            "Please use with caution.  We would be grateful for your help in improving them\n",
            "\n",
            "/usr/local/lib/python3.10/dist-packages/nltk/twitter/__init__.py:20: UserWarning:\n",
            "\n",
            "The twython library has not been installed. Some functionality from the twitter package will not be available.\n",
            "\n",
            "/usr/local/lib/python3.10/dist-packages/notebook/utils.py:280: DeprecationWarning:\n",
            "\n",
            "distutils Version classes are deprecated. Use packaging.version instead.\n",
            "\n",
            "/usr/local/lib/python3.10/dist-packages/notebook/utils.py:280: DeprecationWarning:\n",
            "\n",
            "distutils Version classes are deprecated. Use packaging.version instead.\n",
            "\n",
            "/usr/local/lib/python3.10/dist-packages/matplotlib_inline/config.py:68: DeprecationWarning:\n",
            "\n",
            "InlineBackend._figure_format_changed is deprecated in traitlets 4.1: use @observe and @unobserve instead.\n",
            "\n",
            "/usr/lib/python3.10/pkgutil.py:92: NumbaPendingDeprecationWarning:\n",
            "\n",
            "The 'pycc' module is pending deprecation. Replacement technology is being developed.\n",
            "\n",
            "Pending Deprecation in Numba 0.57.0. For more information please see: https://numba.readthedocs.io/en/stable/reference/deprecation.html#deprecation-of-the-numba-pycc-module\n",
            "\n",
            "/usr/lib/python3.10/pkgutil.py:92: UserWarning:\n",
            "\n",
            "The numpy.array_api submodule is still experimental. See NEP 47.\n",
            "\n",
            "/usr/lib/python3.10/pkgutil.py:92: DeprecationWarning:\n",
            "\n",
            "\n",
            "\n",
            "  `numpy.distutils` is deprecated since NumPy 1.23.0, as a result\n",
            "  of the deprecation of `distutils` itself. It will be removed for\n",
            "  Python >= 3.12. For older Python versions it will remain present.\n",
            "  It is recommended to use `setuptools < 60.0` for those Python versions.\n",
            "  For more details, see:\n",
            "    https://numpy.org/devdocs/reference/distutils_status_migration.html \n",
            "\n",
            "\n",
            "\n",
            "/usr/local/lib/python3.10/dist-packages/pandas_datareader/compat/__init__.py:11: DeprecationWarning:\n",
            "\n",
            "distutils Version classes are deprecated. Use packaging.version instead.\n",
            "\n",
            "/usr/local/lib/python3.10/dist-packages/pandas_datareader/compat/__init__.py:13: DeprecationWarning:\n",
            "\n",
            "distutils Version classes are deprecated. Use packaging.version instead.\n",
            "\n",
            "/usr/local/lib/python3.10/dist-packages/pandas_datareader/compat/__init__.py:14: DeprecationWarning:\n",
            "\n",
            "distutils Version classes are deprecated. Use packaging.version instead.\n",
            "\n",
            "/usr/local/lib/python3.10/dist-packages/pandas_datareader/compat/__init__.py:15: DeprecationWarning:\n",
            "\n",
            "distutils Version classes are deprecated. Use packaging.version instead.\n",
            "\n",
            "/usr/local/lib/python3.10/dist-packages/pip/_vendor/pkg_resources/__init__.py:121: DeprecationWarning:\n",
            "\n",
            "pkg_resources is deprecated as an API\n",
            "\n",
            "/usr/local/lib/python3.10/dist-packages/pip/_vendor/pkg_resources/__init__.py:2870: DeprecationWarning:\n",
            "\n",
            "Deprecated call to `pkg_resources.declare_namespace('google')`.\n",
            "Implementing implicit namespace packages (as specified in PEP 420) is preferred to `pkg_resources.declare_namespace`. See https://setuptools.pypa.io/en/latest/references/keywords.html#keyword-namespace-packages\n",
            "\n",
            "/usr/local/lib/python3.10/dist-packages/pip/_vendor/pkg_resources/__init__.py:2870: DeprecationWarning:\n",
            "\n",
            "Deprecated call to `pkg_resources.declare_namespace('google')`.\n",
            "Implementing implicit namespace packages (as specified in PEP 420) is preferred to `pkg_resources.declare_namespace`. See https://setuptools.pypa.io/en/latest/references/keywords.html#keyword-namespace-packages\n",
            "\n",
            "/usr/local/lib/python3.10/dist-packages/pip/_vendor/pkg_resources/__init__.py:2870: DeprecationWarning:\n",
            "\n",
            "Deprecated call to `pkg_resources.declare_namespace('google.cloud')`.\n",
            "Implementing implicit namespace packages (as specified in PEP 420) is preferred to `pkg_resources.declare_namespace`. See https://setuptools.pypa.io/en/latest/references/keywords.html#keyword-namespace-packages\n",
            "\n",
            "/usr/local/lib/python3.10/dist-packages/pip/_vendor/pkg_resources/__init__.py:2349: DeprecationWarning:\n",
            "\n",
            "Deprecated call to `pkg_resources.declare_namespace('google')`.\n",
            "Implementing implicit namespace packages (as specified in PEP 420) is preferred to `pkg_resources.declare_namespace`. See https://setuptools.pypa.io/en/latest/references/keywords.html#keyword-namespace-packages\n",
            "\n",
            "/usr/local/lib/python3.10/dist-packages/pip/_vendor/pkg_resources/__init__.py:2870: DeprecationWarning:\n",
            "\n",
            "Deprecated call to `pkg_resources.declare_namespace('google')`.\n",
            "Implementing implicit namespace packages (as specified in PEP 420) is preferred to `pkg_resources.declare_namespace`. See https://setuptools.pypa.io/en/latest/references/keywords.html#keyword-namespace-packages\n",
            "\n",
            "/usr/local/lib/python3.10/dist-packages/pip/_vendor/pkg_resources/__init__.py:2870: DeprecationWarning:\n",
            "\n",
            "Deprecated call to `pkg_resources.declare_namespace('google.cloud')`.\n",
            "Implementing implicit namespace packages (as specified in PEP 420) is preferred to `pkg_resources.declare_namespace`. See https://setuptools.pypa.io/en/latest/references/keywords.html#keyword-namespace-packages\n",
            "\n",
            "/usr/local/lib/python3.10/dist-packages/pip/_vendor/pkg_resources/__init__.py:2870: DeprecationWarning:\n",
            "\n",
            "Deprecated call to `pkg_resources.declare_namespace('google')`.\n",
            "Implementing implicit namespace packages (as specified in PEP 420) is preferred to `pkg_resources.declare_namespace`. See https://setuptools.pypa.io/en/latest/references/keywords.html#keyword-namespace-packages\n",
            "\n",
            "/usr/local/lib/python3.10/dist-packages/pip/_vendor/pkg_resources/__init__.py:2870: DeprecationWarning:\n",
            "\n",
            "Deprecated call to `pkg_resources.declare_namespace('google.cloud')`.\n",
            "Implementing implicit namespace packages (as specified in PEP 420) is preferred to `pkg_resources.declare_namespace`. See https://setuptools.pypa.io/en/latest/references/keywords.html#keyword-namespace-packages\n",
            "\n",
            "/usr/local/lib/python3.10/dist-packages/pip/_vendor/pkg_resources/__init__.py:2870: DeprecationWarning:\n",
            "\n",
            "Deprecated call to `pkg_resources.declare_namespace('google')`.\n",
            "Implementing implicit namespace packages (as specified in PEP 420) is preferred to `pkg_resources.declare_namespace`. See https://setuptools.pypa.io/en/latest/references/keywords.html#keyword-namespace-packages\n",
            "\n",
            "/usr/local/lib/python3.10/dist-packages/pip/_vendor/pkg_resources/__init__.py:2870: DeprecationWarning:\n",
            "\n",
            "Deprecated call to `pkg_resources.declare_namespace('google.cloud')`.\n",
            "Implementing implicit namespace packages (as specified in PEP 420) is preferred to `pkg_resources.declare_namespace`. See https://setuptools.pypa.io/en/latest/references/keywords.html#keyword-namespace-packages\n",
            "\n",
            "/usr/local/lib/python3.10/dist-packages/pip/_vendor/pkg_resources/__init__.py:2870: DeprecationWarning:\n",
            "\n",
            "Deprecated call to `pkg_resources.declare_namespace('google')`.\n",
            "Implementing implicit namespace packages (as specified in PEP 420) is preferred to `pkg_resources.declare_namespace`. See https://setuptools.pypa.io/en/latest/references/keywords.html#keyword-namespace-packages\n",
            "\n",
            "/usr/local/lib/python3.10/dist-packages/pip/_vendor/pkg_resources/__init__.py:2870: DeprecationWarning:\n",
            "\n",
            "Deprecated call to `pkg_resources.declare_namespace('google.cloud')`.\n",
            "Implementing implicit namespace packages (as specified in PEP 420) is preferred to `pkg_resources.declare_namespace`. See https://setuptools.pypa.io/en/latest/references/keywords.html#keyword-namespace-packages\n",
            "\n",
            "/usr/local/lib/python3.10/dist-packages/pip/_vendor/pkg_resources/__init__.py:2870: DeprecationWarning:\n",
            "\n",
            "Deprecated call to `pkg_resources.declare_namespace('google')`.\n",
            "Implementing implicit namespace packages (as specified in PEP 420) is preferred to `pkg_resources.declare_namespace`. See https://setuptools.pypa.io/en/latest/references/keywords.html#keyword-namespace-packages\n",
            "\n",
            "/usr/local/lib/python3.10/dist-packages/pip/_vendor/pkg_resources/__init__.py:2870: DeprecationWarning:\n",
            "\n",
            "Deprecated call to `pkg_resources.declare_namespace('google.cloud')`.\n",
            "Implementing implicit namespace packages (as specified in PEP 420) is preferred to `pkg_resources.declare_namespace`. See https://setuptools.pypa.io/en/latest/references/keywords.html#keyword-namespace-packages\n",
            "\n",
            "/usr/local/lib/python3.10/dist-packages/pip/_vendor/pkg_resources/__init__.py:2870: DeprecationWarning:\n",
            "\n",
            "Deprecated call to `pkg_resources.declare_namespace('google')`.\n",
            "Implementing implicit namespace packages (as specified in PEP 420) is preferred to `pkg_resources.declare_namespace`. See https://setuptools.pypa.io/en/latest/references/keywords.html#keyword-namespace-packages\n",
            "\n",
            "/usr/local/lib/python3.10/dist-packages/pip/_vendor/pkg_resources/__init__.py:2870: DeprecationWarning:\n",
            "\n",
            "Deprecated call to `pkg_resources.declare_namespace('google.cloud')`.\n",
            "Implementing implicit namespace packages (as specified in PEP 420) is preferred to `pkg_resources.declare_namespace`. See https://setuptools.pypa.io/en/latest/references/keywords.html#keyword-namespace-packages\n",
            "\n",
            "/usr/local/lib/python3.10/dist-packages/pip/_vendor/pkg_resources/__init__.py:2870: DeprecationWarning:\n",
            "\n",
            "Deprecated call to `pkg_resources.declare_namespace('google')`.\n",
            "Implementing implicit namespace packages (as specified in PEP 420) is preferred to `pkg_resources.declare_namespace`. See https://setuptools.pypa.io/en/latest/references/keywords.html#keyword-namespace-packages\n",
            "\n",
            "/usr/local/lib/python3.10/dist-packages/pip/_vendor/pkg_resources/__init__.py:2870: DeprecationWarning:\n",
            "\n",
            "Deprecated call to `pkg_resources.declare_namespace('google.cloud')`.\n",
            "Implementing implicit namespace packages (as specified in PEP 420) is preferred to `pkg_resources.declare_namespace`. See https://setuptools.pypa.io/en/latest/references/keywords.html#keyword-namespace-packages\n",
            "\n",
            "/usr/local/lib/python3.10/dist-packages/pip/_vendor/pkg_resources/__init__.py:2870: DeprecationWarning:\n",
            "\n",
            "Deprecated call to `pkg_resources.declare_namespace('google')`.\n",
            "Implementing implicit namespace packages (as specified in PEP 420) is preferred to `pkg_resources.declare_namespace`. See https://setuptools.pypa.io/en/latest/references/keywords.html#keyword-namespace-packages\n",
            "\n",
            "/usr/local/lib/python3.10/dist-packages/pip/_vendor/pkg_resources/__init__.py:2870: DeprecationWarning:\n",
            "\n",
            "Deprecated call to `pkg_resources.declare_namespace('google')`.\n",
            "Implementing implicit namespace packages (as specified in PEP 420) is preferred to `pkg_resources.declare_namespace`. See https://setuptools.pypa.io/en/latest/references/keywords.html#keyword-namespace-packages\n",
            "\n",
            "/usr/local/lib/python3.10/dist-packages/pip/_vendor/pkg_resources/__init__.py:2870: DeprecationWarning:\n",
            "\n",
            "Deprecated call to `pkg_resources.declare_namespace('mpl_toolkits')`.\n",
            "Implementing implicit namespace packages (as specified in PEP 420) is preferred to `pkg_resources.declare_namespace`. See https://setuptools.pypa.io/en/latest/references/keywords.html#keyword-namespace-packages\n",
            "\n",
            "/usr/local/lib/python3.10/dist-packages/pip/_vendor/pkg_resources/__init__.py:2870: DeprecationWarning:\n",
            "\n",
            "Deprecated call to `pkg_resources.declare_namespace('google')`.\n",
            "Implementing implicit namespace packages (as specified in PEP 420) is preferred to `pkg_resources.declare_namespace`. See https://setuptools.pypa.io/en/latest/references/keywords.html#keyword-namespace-packages\n",
            "\n",
            "/usr/local/lib/python3.10/dist-packages/pip/_vendor/pkg_resources/__init__.py:2870: DeprecationWarning:\n",
            "\n",
            "Deprecated call to `pkg_resources.declare_namespace('sphinxcontrib')`.\n",
            "Implementing implicit namespace packages (as specified in PEP 420) is preferred to `pkg_resources.declare_namespace`. See https://setuptools.pypa.io/en/latest/references/keywords.html#keyword-namespace-packages\n",
            "\n"
          ]
        },
        {
          "name": "stdout",
          "output_type": "stream",
          "text": [
            "Python version: 3.10.12 (main, Nov 20 2023, 15:14:05) [GCC 11.4.0]\n",
            "GEOS version: 3.11.3-CAPI-1.17.3\n",
            "Numpy version: 1.25.2\n"
          ]
        },
        {
          "name": "stderr",
          "output_type": "stream",
          "text": [
            "/usr/lib/python3.10/pkgutil.py:92: UserWarning: viewer requires Qt\n",
            "/usr/local/lib/python3.10/dist-packages/tensorboard/_vendor/html5lib/filters/sanitizer.py:29: DeprecationWarning: html5lib's sanitizer is deprecated; see https://github.com/html5lib/html5lib-python/issues/443 and please let us know if Bleach is unsuitable for your needs\n",
            "/usr/local/lib/python3.10/dist-packages/tensorflow_probability/python/__init__.py:49: DeprecationWarning: The distutils package is deprecated and slated for removal in Python 3.12. Use setuptools or check PEP 632 for potential alternatives\n",
            "/usr/lib/python3.10/multiprocessing/popen_fork.py:66: RuntimeWarning: os.fork() was called. os.fork() is incompatible with multithreaded code, and JAX is multithreaded, so this will likely lead to a deadlock.\n",
            "/usr/local/lib/python3.10/dist-packages/torch/distributed/_shard/checkpoint/__init__.py:8: DeprecationWarning: torch.distributed._shard.checkpoint will be deprecated, use torch.distributed.checkpoint instead\n",
            "/usr/local/lib/python3.10/dist-packages/torch/distributed/_sharded_tensor/__init__.py:8: DeprecationWarning: torch.distributed._sharded_tensor will be deprecated, use torch.distributed._shard.sharded_tensor instead\n",
            "/usr/local/lib/python3.10/dist-packages/torch/distributed/_sharding_spec/__init__.py:8: DeprecationWarning: torch.distributed._sharding_spec will be deprecated, use torch.distributed._shard.sharding_spec instead\n",
            "No CUDA runtime is found, using CUDA_HOME='/usr/local/cuda'\n"
          ]
        },
        {
          "ename": "Skipped",
          "evalue": "could not import 'hypothesis': No module named 'hypothesis'",
          "output_type": "error",
          "traceback": [
            "\u001b[0;31m---------------------------------------------------------------------------\u001b[0m",
            "\u001b[0;31mSkipped\u001b[0m                                   Traceback (most recent call last)",
            "\u001b[0;32m<ipython-input-29-d709e63e2cb7>\u001b[0m in \u001b[0;36m<cell line: 1>\u001b[0;34m()\u001b[0m\n\u001b[0;32m----> 1\u001b[0;31m \u001b[0mhelp\u001b[0m\u001b[0;34m(\u001b[0m\u001b[0;34m'modules'\u001b[0m\u001b[0;34m)\u001b[0m\u001b[0;34m\u001b[0m\u001b[0;34m\u001b[0m\u001b[0m\n\u001b[0m",
            "\u001b[0;32m/usr/lib/python3.10/_sitebuiltins.py\u001b[0m in \u001b[0;36m__call__\u001b[0;34m(self, *args, **kwds)\u001b[0m\n\u001b[1;32m    101\u001b[0m     \u001b[0;32mdef\u001b[0m \u001b[0m__call__\u001b[0m\u001b[0;34m(\u001b[0m\u001b[0mself\u001b[0m\u001b[0;34m,\u001b[0m \u001b[0;34m*\u001b[0m\u001b[0margs\u001b[0m\u001b[0;34m,\u001b[0m \u001b[0;34m**\u001b[0m\u001b[0mkwds\u001b[0m\u001b[0;34m)\u001b[0m\u001b[0;34m:\u001b[0m\u001b[0;34m\u001b[0m\u001b[0;34m\u001b[0m\u001b[0m\n\u001b[1;32m    102\u001b[0m         \u001b[0;32mimport\u001b[0m \u001b[0mpydoc\u001b[0m\u001b[0;34m\u001b[0m\u001b[0;34m\u001b[0m\u001b[0m\n\u001b[0;32m--> 103\u001b[0;31m         \u001b[0;32mreturn\u001b[0m \u001b[0mpydoc\u001b[0m\u001b[0;34m.\u001b[0m\u001b[0mhelp\u001b[0m\u001b[0;34m(\u001b[0m\u001b[0;34m*\u001b[0m\u001b[0margs\u001b[0m\u001b[0;34m,\u001b[0m \u001b[0;34m**\u001b[0m\u001b[0mkwds\u001b[0m\u001b[0;34m)\u001b[0m\u001b[0;34m\u001b[0m\u001b[0;34m\u001b[0m\u001b[0m\n\u001b[0m",
            "\u001b[0;32m/usr/lib/python3.10/pydoc.py\u001b[0m in \u001b[0;36m__call__\u001b[0;34m(self, request)\u001b[0m\n\u001b[1;32m   2011\u001b[0m     \u001b[0;32mdef\u001b[0m \u001b[0m__call__\u001b[0m\u001b[0;34m(\u001b[0m\u001b[0mself\u001b[0m\u001b[0;34m,\u001b[0m \u001b[0mrequest\u001b[0m\u001b[0;34m=\u001b[0m\u001b[0m_GoInteractive\u001b[0m\u001b[0;34m)\u001b[0m\u001b[0;34m:\u001b[0m\u001b[0;34m\u001b[0m\u001b[0;34m\u001b[0m\u001b[0m\n\u001b[1;32m   2012\u001b[0m         \u001b[0;32mif\u001b[0m \u001b[0mrequest\u001b[0m \u001b[0;32mis\u001b[0m \u001b[0;32mnot\u001b[0m \u001b[0mself\u001b[0m\u001b[0;34m.\u001b[0m\u001b[0m_GoInteractive\u001b[0m\u001b[0;34m:\u001b[0m\u001b[0;34m\u001b[0m\u001b[0;34m\u001b[0m\u001b[0m\n\u001b[0;32m-> 2013\u001b[0;31m             \u001b[0mself\u001b[0m\u001b[0;34m.\u001b[0m\u001b[0mhelp\u001b[0m\u001b[0;34m(\u001b[0m\u001b[0mrequest\u001b[0m\u001b[0;34m)\u001b[0m\u001b[0;34m\u001b[0m\u001b[0;34m\u001b[0m\u001b[0m\n\u001b[0m\u001b[1;32m   2014\u001b[0m         \u001b[0;32melse\u001b[0m\u001b[0;34m:\u001b[0m\u001b[0;34m\u001b[0m\u001b[0;34m\u001b[0m\u001b[0m\n\u001b[1;32m   2015\u001b[0m             \u001b[0mself\u001b[0m\u001b[0;34m.\u001b[0m\u001b[0mintro\u001b[0m\u001b[0;34m(\u001b[0m\u001b[0;34m)\u001b[0m\u001b[0;34m\u001b[0m\u001b[0;34m\u001b[0m\u001b[0m\n",
            "\u001b[0;32m/usr/lib/python3.10/pydoc.py\u001b[0m in \u001b[0;36mhelp\u001b[0;34m(self, request)\u001b[0m\n\u001b[1;32m   2058\u001b[0m             \u001b[0;32melif\u001b[0m \u001b[0mrequest\u001b[0m \u001b[0;34m==\u001b[0m \u001b[0;34m'symbols'\u001b[0m\u001b[0;34m:\u001b[0m \u001b[0mself\u001b[0m\u001b[0;34m.\u001b[0m\u001b[0mlistsymbols\u001b[0m\u001b[0;34m(\u001b[0m\u001b[0;34m)\u001b[0m\u001b[0;34m\u001b[0m\u001b[0;34m\u001b[0m\u001b[0m\n\u001b[1;32m   2059\u001b[0m             \u001b[0;32melif\u001b[0m \u001b[0mrequest\u001b[0m \u001b[0;34m==\u001b[0m \u001b[0;34m'topics'\u001b[0m\u001b[0;34m:\u001b[0m \u001b[0mself\u001b[0m\u001b[0;34m.\u001b[0m\u001b[0mlisttopics\u001b[0m\u001b[0;34m(\u001b[0m\u001b[0;34m)\u001b[0m\u001b[0;34m\u001b[0m\u001b[0;34m\u001b[0m\u001b[0m\n\u001b[0;32m-> 2060\u001b[0;31m             \u001b[0;32melif\u001b[0m \u001b[0mrequest\u001b[0m \u001b[0;34m==\u001b[0m \u001b[0;34m'modules'\u001b[0m\u001b[0;34m:\u001b[0m \u001b[0mself\u001b[0m\u001b[0;34m.\u001b[0m\u001b[0mlistmodules\u001b[0m\u001b[0;34m(\u001b[0m\u001b[0;34m)\u001b[0m\u001b[0;34m\u001b[0m\u001b[0;34m\u001b[0m\u001b[0m\n\u001b[0m\u001b[1;32m   2061\u001b[0m             \u001b[0;32melif\u001b[0m \u001b[0mrequest\u001b[0m\u001b[0;34m[\u001b[0m\u001b[0;34m:\u001b[0m\u001b[0;36m8\u001b[0m\u001b[0;34m]\u001b[0m \u001b[0;34m==\u001b[0m \u001b[0;34m'modules '\u001b[0m\u001b[0;34m:\u001b[0m\u001b[0;34m\u001b[0m\u001b[0;34m\u001b[0m\u001b[0m\n\u001b[1;32m   2062\u001b[0m                 \u001b[0mself\u001b[0m\u001b[0;34m.\u001b[0m\u001b[0mlistmodules\u001b[0m\u001b[0;34m(\u001b[0m\u001b[0mrequest\u001b[0m\u001b[0;34m.\u001b[0m\u001b[0msplit\u001b[0m\u001b[0;34m(\u001b[0m\u001b[0;34m)\u001b[0m\u001b[0;34m[\u001b[0m\u001b[0;36m1\u001b[0m\u001b[0;34m]\u001b[0m\u001b[0;34m)\u001b[0m\u001b[0;34m\u001b[0m\u001b[0;34m\u001b[0m\u001b[0m\n",
            "\u001b[0;32m/usr/lib/python3.10/pydoc.py\u001b[0m in \u001b[0;36mlistmodules\u001b[0;34m(self, key)\u001b[0m\n\u001b[1;32m   2210\u001b[0m             \u001b[0;32mdef\u001b[0m \u001b[0monerror\u001b[0m\u001b[0;34m(\u001b[0m\u001b[0mmodname\u001b[0m\u001b[0;34m)\u001b[0m\u001b[0;34m:\u001b[0m\u001b[0;34m\u001b[0m\u001b[0;34m\u001b[0m\u001b[0m\n\u001b[1;32m   2211\u001b[0m                 \u001b[0mcallback\u001b[0m\u001b[0;34m(\u001b[0m\u001b[0;32mNone\u001b[0m\u001b[0;34m,\u001b[0m \u001b[0mmodname\u001b[0m\u001b[0;34m,\u001b[0m \u001b[0;32mNone\u001b[0m\u001b[0;34m)\u001b[0m\u001b[0;34m\u001b[0m\u001b[0;34m\u001b[0m\u001b[0m\n\u001b[0;32m-> 2212\u001b[0;31m             \u001b[0mModuleScanner\u001b[0m\u001b[0;34m(\u001b[0m\u001b[0;34m)\u001b[0m\u001b[0;34m.\u001b[0m\u001b[0mrun\u001b[0m\u001b[0;34m(\u001b[0m\u001b[0mcallback\u001b[0m\u001b[0;34m,\u001b[0m \u001b[0monerror\u001b[0m\u001b[0;34m=\u001b[0m\u001b[0monerror\u001b[0m\u001b[0;34m)\u001b[0m\u001b[0;34m\u001b[0m\u001b[0;34m\u001b[0m\u001b[0m\n\u001b[0m\u001b[1;32m   2213\u001b[0m             \u001b[0mself\u001b[0m\u001b[0;34m.\u001b[0m\u001b[0mlist\u001b[0m\u001b[0;34m(\u001b[0m\u001b[0mmodules\u001b[0m\u001b[0;34m.\u001b[0m\u001b[0mkeys\u001b[0m\u001b[0;34m(\u001b[0m\u001b[0;34m)\u001b[0m\u001b[0;34m)\u001b[0m\u001b[0;34m\u001b[0m\u001b[0;34m\u001b[0m\u001b[0m\n\u001b[1;32m   2214\u001b[0m             self.output.write('''\n",
            "\u001b[0;32m/usr/lib/python3.10/pydoc.py\u001b[0m in \u001b[0;36mrun\u001b[0;34m(self, callback, key, completer, onerror)\u001b[0m\n\u001b[1;32m   2239\u001b[0m                         \u001b[0mcallback\u001b[0m\u001b[0;34m(\u001b[0m\u001b[0;32mNone\u001b[0m\u001b[0;34m,\u001b[0m \u001b[0mmodname\u001b[0m\u001b[0;34m,\u001b[0m \u001b[0mdesc\u001b[0m\u001b[0;34m)\u001b[0m\u001b[0;34m\u001b[0m\u001b[0;34m\u001b[0m\u001b[0m\n\u001b[1;32m   2240\u001b[0m \u001b[0;34m\u001b[0m\u001b[0m\n\u001b[0;32m-> 2241\u001b[0;31m         \u001b[0;32mfor\u001b[0m \u001b[0mimporter\u001b[0m\u001b[0;34m,\u001b[0m \u001b[0mmodname\u001b[0m\u001b[0;34m,\u001b[0m \u001b[0mispkg\u001b[0m \u001b[0;32min\u001b[0m \u001b[0mpkgutil\u001b[0m\u001b[0;34m.\u001b[0m\u001b[0mwalk_packages\u001b[0m\u001b[0;34m(\u001b[0m\u001b[0monerror\u001b[0m\u001b[0;34m=\u001b[0m\u001b[0monerror\u001b[0m\u001b[0;34m)\u001b[0m\u001b[0;34m:\u001b[0m\u001b[0;34m\u001b[0m\u001b[0;34m\u001b[0m\u001b[0m\n\u001b[0m\u001b[1;32m   2242\u001b[0m             \u001b[0;32mif\u001b[0m \u001b[0mself\u001b[0m\u001b[0;34m.\u001b[0m\u001b[0mquit\u001b[0m\u001b[0;34m:\u001b[0m\u001b[0;34m\u001b[0m\u001b[0;34m\u001b[0m\u001b[0m\n\u001b[1;32m   2243\u001b[0m                 \u001b[0;32mbreak\u001b[0m\u001b[0;34m\u001b[0m\u001b[0;34m\u001b[0m\u001b[0m\n",
            "\u001b[0;32m/usr/lib/python3.10/pkgutil.py\u001b[0m in \u001b[0;36mwalk_packages\u001b[0;34m(path, prefix, onerror)\u001b[0m\n\u001b[1;32m    105\u001b[0m                 \u001b[0mpath\u001b[0m \u001b[0;34m=\u001b[0m \u001b[0;34m[\u001b[0m\u001b[0mp\u001b[0m \u001b[0;32mfor\u001b[0m \u001b[0mp\u001b[0m \u001b[0;32min\u001b[0m \u001b[0mpath\u001b[0m \u001b[0;32mif\u001b[0m \u001b[0;32mnot\u001b[0m \u001b[0mseen\u001b[0m\u001b[0;34m(\u001b[0m\u001b[0mp\u001b[0m\u001b[0;34m)\u001b[0m\u001b[0;34m]\u001b[0m\u001b[0;34m\u001b[0m\u001b[0;34m\u001b[0m\u001b[0m\n\u001b[1;32m    106\u001b[0m \u001b[0;34m\u001b[0m\u001b[0m\n\u001b[0;32m--> 107\u001b[0;31m                 \u001b[0;32myield\u001b[0m \u001b[0;32mfrom\u001b[0m \u001b[0mwalk_packages\u001b[0m\u001b[0;34m(\u001b[0m\u001b[0mpath\u001b[0m\u001b[0;34m,\u001b[0m \u001b[0minfo\u001b[0m\u001b[0;34m.\u001b[0m\u001b[0mname\u001b[0m\u001b[0;34m+\u001b[0m\u001b[0;34m'.'\u001b[0m\u001b[0;34m,\u001b[0m \u001b[0monerror\u001b[0m\u001b[0;34m)\u001b[0m\u001b[0;34m\u001b[0m\u001b[0;34m\u001b[0m\u001b[0m\n\u001b[0m\u001b[1;32m    108\u001b[0m \u001b[0;34m\u001b[0m\u001b[0m\n\u001b[1;32m    109\u001b[0m \u001b[0;34m\u001b[0m\u001b[0m\n",
            "\u001b[0;32m/usr/lib/python3.10/pkgutil.py\u001b[0m in \u001b[0;36mwalk_packages\u001b[0;34m(path, prefix, onerror)\u001b[0m\n\u001b[1;32m     90\u001b[0m         \u001b[0;32mif\u001b[0m \u001b[0minfo\u001b[0m\u001b[0;34m.\u001b[0m\u001b[0mispkg\u001b[0m\u001b[0;34m:\u001b[0m\u001b[0;34m\u001b[0m\u001b[0;34m\u001b[0m\u001b[0m\n\u001b[1;32m     91\u001b[0m             \u001b[0;32mtry\u001b[0m\u001b[0;34m:\u001b[0m\u001b[0;34m\u001b[0m\u001b[0;34m\u001b[0m\u001b[0m\n\u001b[0;32m---> 92\u001b[0;31m                 \u001b[0m__import__\u001b[0m\u001b[0;34m(\u001b[0m\u001b[0minfo\u001b[0m\u001b[0;34m.\u001b[0m\u001b[0mname\u001b[0m\u001b[0;34m)\u001b[0m\u001b[0;34m\u001b[0m\u001b[0;34m\u001b[0m\u001b[0m\n\u001b[0m\u001b[1;32m     93\u001b[0m             \u001b[0;32mexcept\u001b[0m \u001b[0mImportError\u001b[0m\u001b[0;34m:\u001b[0m\u001b[0;34m\u001b[0m\u001b[0;34m\u001b[0m\u001b[0m\n\u001b[1;32m     94\u001b[0m                 \u001b[0;32mif\u001b[0m \u001b[0monerror\u001b[0m \u001b[0;32mis\u001b[0m \u001b[0;32mnot\u001b[0m \u001b[0;32mNone\u001b[0m\u001b[0;34m:\u001b[0m\u001b[0;34m\u001b[0m\u001b[0;34m\u001b[0m\u001b[0m\n",
            "\u001b[0;32m/usr/local/lib/python3.10/dist-packages/xgboost/testing/__init__.py\u001b[0m in \u001b[0;36m<module>\u001b[0;34m\u001b[0m\n\u001b[1;32m     45\u001b[0m )\n\u001b[1;32m     46\u001b[0m \u001b[0;34m\u001b[0m\u001b[0m\n\u001b[0;32m---> 47\u001b[0;31m \u001b[0mhypothesis\u001b[0m \u001b[0;34m=\u001b[0m \u001b[0mpytest\u001b[0m\u001b[0;34m.\u001b[0m\u001b[0mimportorskip\u001b[0m\u001b[0;34m(\u001b[0m\u001b[0;34m\"hypothesis\"\u001b[0m\u001b[0;34m)\u001b[0m\u001b[0;34m\u001b[0m\u001b[0;34m\u001b[0m\u001b[0m\n\u001b[0m\u001b[1;32m     48\u001b[0m \u001b[0;34m\u001b[0m\u001b[0m\n\u001b[1;32m     49\u001b[0m \u001b[0;31m# pylint:disable=wrong-import-position,wrong-import-order\u001b[0m\u001b[0;34m\u001b[0m\u001b[0;34m\u001b[0m\u001b[0m\n",
            "\u001b[0;32m/usr/local/lib/python3.10/dist-packages/_pytest/outcomes.py\u001b[0m in \u001b[0;36mimportorskip\u001b[0;34m(modname, minversion, reason)\u001b[0m\n\u001b[1;32m    294\u001b[0m             \u001b[0;32mif\u001b[0m \u001b[0mreason\u001b[0m \u001b[0;32mis\u001b[0m \u001b[0;32mNone\u001b[0m\u001b[0;34m:\u001b[0m\u001b[0;34m\u001b[0m\u001b[0;34m\u001b[0m\u001b[0m\n\u001b[1;32m    295\u001b[0m                 \u001b[0mreason\u001b[0m \u001b[0;34m=\u001b[0m \u001b[0;34mf\"could not import {modname!r}: {exc}\"\u001b[0m\u001b[0;34m\u001b[0m\u001b[0;34m\u001b[0m\u001b[0m\n\u001b[0;32m--> 296\u001b[0;31m             \u001b[0;32mraise\u001b[0m \u001b[0mSkipped\u001b[0m\u001b[0;34m(\u001b[0m\u001b[0mreason\u001b[0m\u001b[0;34m,\u001b[0m \u001b[0mallow_module_level\u001b[0m\u001b[0;34m=\u001b[0m\u001b[0;32mTrue\u001b[0m\u001b[0;34m)\u001b[0m \u001b[0;32mfrom\u001b[0m \u001b[0;32mNone\u001b[0m\u001b[0;34m\u001b[0m\u001b[0;34m\u001b[0m\u001b[0m\n\u001b[0m\u001b[1;32m    297\u001b[0m     \u001b[0mmod\u001b[0m \u001b[0;34m=\u001b[0m \u001b[0msys\u001b[0m\u001b[0;34m.\u001b[0m\u001b[0mmodules\u001b[0m\u001b[0;34m[\u001b[0m\u001b[0mmodname\u001b[0m\u001b[0;34m]\u001b[0m\u001b[0;34m\u001b[0m\u001b[0;34m\u001b[0m\u001b[0m\n\u001b[1;32m    298\u001b[0m     \u001b[0;32mif\u001b[0m \u001b[0mminversion\u001b[0m \u001b[0;32mis\u001b[0m \u001b[0;32mNone\u001b[0m\u001b[0;34m:\u001b[0m\u001b[0;34m\u001b[0m\u001b[0;34m\u001b[0m\u001b[0m\n",
            "\u001b[0;31mSkipped\u001b[0m: could not import 'hypothesis': No module named 'hypothesis'"
          ]
        }
      ],
      "source": [
        "help('modules')"
      ]
    },
    {
      "cell_type": "markdown",
      "metadata": {
        "id": "vFr2KEJD-exS"
      },
      "source": [
        "Loops in Python - loop is the enitity by the use of it we can use the things again and again\n",
        "\n",
        "\n",
        "*   Need for loops\n",
        "*   while loop\n",
        "\n",
        "*   for loop\n",
        "\n",
        "\n",
        "\n",
        "\n"
      ]
    },
    {
      "cell_type": "code",
      "execution_count": null,
      "metadata": {
        "colab": {
          "base_uri": "https://localhost:8080/"
        },
        "id": "4PBtChqu-x_Q",
        "outputId": "7f508456-092d-43bb-e3d1-2b3e59005f98"
      },
      "outputs": [
        {
          "name": "stdout",
          "output_type": "stream",
          "text": [
            "enter the number3\n",
            "3\n",
            "6\n",
            "9\n",
            "12\n",
            "15\n",
            "18\n",
            "21\n",
            "24\n",
            "27\n",
            "30\n"
          ]
        }
      ],
      "source": [
        "#while loop example-> program to print the table\n",
        "number = int(input(\"enter the number\"))\n",
        "i=1\n",
        "while i<11:\n",
        "  print(number*i)\n",
        "  i+=1\n"
      ]
    },
    {
      "cell_type": "code",
      "execution_count": null,
      "metadata": {
        "id": "d4MFwjxWz2M2"
      },
      "outputs": [],
      "source": [
        "# program -> sum of all digit of a given number\n",
        "num=int(input('enter a number'))\n"
      ]
    },
    {
      "cell_type": "code",
      "execution_count": null,
      "metadata": {
        "colab": {
          "base_uri": "https://localhost:8080/"
        },
        "id": "-KfuzwOd0pTW",
        "outputId": "2c271a4f-8209-42cb-cb19-ff3a05b46b73"
      },
      "outputs": [
        {
          "name": "stdout",
          "output_type": "stream",
          "text": [
            "1\n",
            "limit crossed\n"
          ]
        }
      ],
      "source": [
        "#while loop with else\n",
        "x=1\n",
        "while x<2:\n",
        "  print(x)\n",
        "  x+=1\n",
        "\n",
        "else:\n",
        "  print(\"limit crossed\")\n",
        "\n"
      ]
    },
    {
      "cell_type": "code",
      "execution_count": null,
      "metadata": {
        "colab": {
          "background_save": true,
          "base_uri": "https://localhost:8080/"
        },
        "id": "IaGvGTIS06ZP",
        "outputId": "a6ff82d4-6807-4b18-8d7f-b1e21ee2354c"
      },
      "outputs": [
        {
          "name": "stdout",
          "output_type": "stream",
          "text": [
            "wrong:guess higher\n",
            "wrong:guess higher\n",
            "wrong:guess higher\n",
            "guess lower\n",
            "guess lower\n",
            "guess lower\n",
            "guess lower\n"
          ]
        }
      ],
      "source": [
        "#Guessing Game\n",
        "\n",
        "#step-1 -generate a number integer between 1 to 100\n",
        "import random\n",
        "jackpot = random.randint(1,100)\n",
        "guess = int (input(\"guess a number\"))\n",
        "counter =1\n",
        "\n",
        "while guess !=jackpot:\n",
        "  if guess<jacpot:\n",
        "    print(\"wrong:guess higher\")\n",
        "  else:\n",
        "    print(\"guess lower\")\n",
        "\n",
        "  guess = int (input(\"guess a number\"))\n",
        "  counter +=1\n",
        "else:\n",
        "  print(\"you are correct\")\n",
        "  print('attempt',counter)"
      ]
    },
    {
      "cell_type": "code",
      "execution_count": null,
      "metadata": {
        "id": "xvfqDQ3f1gqZ"
      },
      "outputs": [],
      "source": [
        "#For loop demo\n",
        "\n",
        "for i in range(1,11,2):#range(start,stop-1,step)\n",
        "  print(i)"
      ]
    },
    {
      "cell_type": "markdown",
      "metadata": {
        "id": "S16fi7IClm36"
      },
      "source": [
        "program-the current population of a town is 10000. the population of the town is increaing t the rate of 10% per year.you have to write a program to find out the population at the end of each last 10 yer"
      ]
    },
    {
      "cell_type": "code",
      "execution_count": null,
      "metadata": {
        "id": "oENgotTjUY1E",
        "colab": {
          "base_uri": "https://localhost:8080/"
        },
        "outputId": "e1b9828d-2424-4dec-860e-ab466a970cf3"
      },
      "outputs": [
        {
          "output_type": "stream",
          "name": "stdout",
          "text": [
            "10 10000\n",
            "9 9000.0\n",
            "8 8100.0\n",
            "7 7290.0\n",
            "6 6561.0\n",
            "5 5904.9\n",
            "4 5314.41\n",
            "3 4782.969\n",
            "2 4304.6721\n",
            "1 3874.20489\n"
          ]
        }
      ],
      "source": [
        "#for loop example\n",
        "current_pop=10000\n",
        "for i in range(10,0,-1):\n",
        "  print(i,current_pop)\n",
        "  current_pop=current_pop-0.1*current_pop\n"
      ]
    },
    {
      "cell_type": "code",
      "source": [],
      "metadata": {
        "id": "Zl7cG7df8DSh"
      },
      "execution_count": null,
      "outputs": []
    }
  ],
  "metadata": {
    "colab": {
      "provenance": [],
      "authorship_tag": "ABX9TyM/tlosr7KO0moYY9g4aYST",
      "include_colab_link": true
    },
    "kernelspec": {
      "display_name": "Python 3",
      "name": "python3"
    },
    "language_info": {
      "name": "python"
    }
  },
  "nbformat": 4,
  "nbformat_minor": 0
}